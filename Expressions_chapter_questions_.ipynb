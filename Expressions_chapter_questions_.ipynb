{
  "nbformat": 4,
  "nbformat_minor": 0,
  "metadata": {
    "colab": {
      "name": "Expressions chapter questions .ipynb",
      "provenance": [],
      "collapsed_sections": []
    },
    "kernelspec": {
      "name": "python3",
      "display_name": "Python 3"
    },
    "language_info": {
      "name": "python"
    }
  },
  "cells": [
    {
      "cell_type": "markdown",
      "source": [
        "\n",
        "1) Add parentheses to the following expression so that it evaluates to 0. \n",
        ">*8* - 3 * 2 - 1 + 1\n",
        "\n",
        "\n"
      ],
      "metadata": {
        "id": "x5Q0YGuz54fA"
      }
    },
    {
      "cell_type": "code",
      "source": [
        "8-3*2-(1+1)"
      ],
      "metadata": {
        "colab": {
          "base_uri": "https://localhost:8080/"
        },
        "id": "pSj6nTxl59M7",
        "outputId": "93bfbe0b-6efd-4eca-d638-233f8dcffee5"
      },
      "execution_count": null,
      "outputs": [
        {
          "output_type": "execute_result",
          "data": {
            "text/plain": [
              "0"
            ]
          },
          "metadata": {},
          "execution_count": 1
        }
      ]
    },
    {
      "cell_type": "markdown",
      "source": [
        "2) Implement Simple Interest Formula : S.I. = P × R × T\n"
      ],
      "metadata": {
        "id": "aMHKGTqy6QiB"
      }
    },
    {
      "cell_type": "code",
      "source": [
        "P = 1500\n",
        "R = 9.5\n",
        "T = 20\n",
        "SI=P*R*T/100\n",
        "\n",
        "SI"
      ],
      "metadata": {
        "id": "l0WtAUKI6Ltf"
      },
      "execution_count": null,
      "outputs": []
    },
    {
      "cell_type": "markdown",
      "source": [
        "3) Try to implement Compound Interest Formula : V = P(1+r/n)^nt=\n"
      ],
      "metadata": {
        "id": "SGNq4nYT6iBj"
      }
    },
    {
      "cell_type": "code",
      "source": [
        "P = 1500\n",
        "r = 0.043\n",
        "n = 4\n",
        "t = 6\n",
        "\n",
        "V=P*(1+r/n)*n*t\n",
        "V"
      ],
      "metadata": {
        "colab": {
          "base_uri": "https://localhost:8080/"
        },
        "id": "L_o7skb86Wdy",
        "outputId": "1c4de6c1-3939-46be-c4d8-ba3b02679084"
      },
      "execution_count": null,
      "outputs": [
        {
          "output_type": "execute_result",
          "data": {
            "text/plain": [
              "36387.0"
            ]
          },
          "metadata": {},
          "execution_count": 3
        }
      ]
    },
    {
      "cell_type": "markdown",
      "source": [
        "4) Implement Fahrenheit to Celsius conversion formula : F = ( C x 9 / 5 ) + 32\n",
        "> C = 253\n"
      ],
      "metadata": {
        "id": "RUv3r4886jcF"
      }
    },
    {
      "cell_type": "code",
      "source": [
        "C=253\n",
        "F = ( C * 9 / 5 ) + 32\n",
        "F"
      ],
      "metadata": {
        "colab": {
          "base_uri": "https://localhost:8080/"
        },
        "id": "Aud3pdZn6j2Y",
        "outputId": "f8018d84-726e-4a18-823a-0e66b134cd3c"
      },
      "execution_count": null,
      "outputs": [
        {
          "output_type": "execute_result",
          "data": {
            "text/plain": [
              "487.4"
            ]
          },
          "metadata": {},
          "execution_count": 4
        }
      ]
    },
    {
      "cell_type": "markdown",
      "source": [
        "5) Create 2 variables and assign values like name and surname from the user. Then concatenate these 2 variables and display using print function.\n"
      ],
      "metadata": {
        "id": "M4hJxQn36kN6"
      }
    },
    {
      "cell_type": "code",
      "source": [
        "name=input()\n",
        "surname=input()\n",
        "print(name+' '+surname)"
      ],
      "metadata": {
        "colab": {
          "base_uri": "https://localhost:8080/"
        },
        "id": "5M2HQSGV6kkD",
        "outputId": "f3880558-a5b9-4ce8-f54f-a6c048c2ebfa"
      },
      "execution_count": null,
      "outputs": [
        {
          "output_type": "stream",
          "name": "stdout",
          "text": [
            "Tom\n",
            "Hangs\n",
            "Tom Hangs\n"
          ]
        }
      ]
    },
    {
      "cell_type": "markdown",
      "source": [
        "6) Create 2 variables and assign values like birth month and birth year from the user. Display these 2 variables and the length of these variables inside a single print function.\n"
      ],
      "metadata": {
        "id": "zdw099qZ6k1r"
      }
    },
    {
      "cell_type": "code",
      "source": [
        "birth_month=input()\n",
        "birth_year=input()\n",
        "print('Length of birth month', birth_month,'is : ', len(birth_month) , '\\nLength of birth year ', birth_year,'is  :', len(birth_year))"
      ],
      "metadata": {
        "colab": {
          "base_uri": "https://localhost:8080/"
        },
        "id": "EVWABF3P6lIF",
        "outputId": "7b4109d9-5897-4fa7-ff0e-8326e49f05ef"
      },
      "execution_count": null,
      "outputs": [
        {
          "output_type": "stream",
          "name": "stdout",
          "text": [
            "April\n",
            "2000\n",
            "Length of birth month April is :  5 \n",
            "Length of birth year  2000 is  : 4\n"
          ]
        }
      ]
    },
    {
      "cell_type": "markdown",
      "source": [
        "7) Create 2 variables and assign values of user's favourite IPL team and any number between 1 - 10. Display the name of this favourite IPL team as many times as the number they pick from 1 - 10.\n",
        ">Note : Pass the message in the input function for taking information from the user.\n"
      ],
      "metadata": {
        "id": "wDDm91GC6lZW"
      }
    },
    {
      "cell_type": "code",
      "source": [
        "IPL_teams=input('Enter your fev IPL team ')\n",
        "N=int(input('Enter any number between 1-10. '))\n",
        "print((IPL_teams+' ')*N)"
      ],
      "metadata": {
        "colab": {
          "base_uri": "https://localhost:8080/"
        },
        "id": "8CqLkr7d6lqk",
        "outputId": "dc2ffe31-24a6-4f0c-e22b-971e03bb9842"
      },
      "execution_count": null,
      "outputs": [
        {
          "output_type": "stream",
          "name": "stdout",
          "text": [
            "Enter your fev IPL team MI\n",
            "Enter any number between 1-10. 5\n",
            "MI MI MI MI MI \n"
          ]
        }
      ]
    },
    {
      "cell_type": "markdown",
      "source": [
        "8) Create 4 variables and take input from user for information like height, weight, age and a number from 1 - 10. Display the results of true division, floor division and exponentiation of height, \n",
        "weight and age with the number selected from 1 - 10 concatenated together inside a print function respectively.\n",
        "> Note : Pass the message in the input function for taking information from the user. Hint : Concatenate string \\n to display output on new line."
      ],
      "metadata": {
        "id": "XPwzkPwV6l7w"
      }
    },
    {
      "cell_type": "code",
      "source": [
        "height=int(input('Enter your height : '))\n",
        "weight=int(input('Enter your weight : '))\n",
        "age=int(input('Enter your age : '))\n",
        "N=int(input('Enter any number from 1-10. : '))\n",
        "\n",
        "print('True division of Height: '+str(height/N) ,'\\nFloor division of Weight: '+str(weight//N),'\\nExponentiation of age: ' +str(age**N))\n",
        "\n"
      ],
      "metadata": {
        "colab": {
          "base_uri": "https://localhost:8080/"
        },
        "id": "3iaMxobX6mMS",
        "outputId": "5d35ff4f-8276-4c87-b133-bb2ea5182964"
      },
      "execution_count": null,
      "outputs": [
        {
          "output_type": "stream",
          "name": "stdout",
          "text": [
            "Enter your height : 154\n",
            "Enter your weight : 60\n",
            "Enter your age : 25\n",
            "Enter any number from 1-10. : 2\n",
            "True division of Height: 77.0 \n",
            "Floor division of Weight: 30 \n",
            "Exponentiation of age: 625\n"
          ]
        }
      ]
    },
    {
      "cell_type": "markdown",
      "source": [
        ""
      ],
      "metadata": {
        "id": "NMc5JFNF6mdC"
      }
    },
    {
      "cell_type": "code",
      "source": [
        ""
      ],
      "metadata": {
        "id": "eBQ1YUIC6ms2"
      },
      "execution_count": null,
      "outputs": []
    }
  ]
}